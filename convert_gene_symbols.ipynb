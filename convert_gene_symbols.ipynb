{
 "cells": [
  {
   "cell_type": "code",
   "execution_count": 1,
   "metadata": {},
   "outputs": [
    {
     "data": {
      "text/plain": [
       "True"
      ]
     },
     "execution_count": 1,
     "metadata": {},
     "output_type": "execute_result"
    }
   ],
   "source": [
    "import torch\n",
    "torch.cuda.is_available()"
   ]
  },
  {
   "cell_type": "code",
   "execution_count": 1,
   "metadata": {},
   "outputs": [
    {
     "name": "stderr",
     "output_type": "stream",
     "text": [
      "No traceback available to show.\n",
      "usage: ipykernel_launcher.py [-h] [--task_name TASK_NAME]\n",
      "                             [--input_type {singlecell,bulk}]\n",
      "                             [--output_type {cell,gene,gene_batch,gene_expression}]\n",
      "                             [--pool_type {all,max}] [--tgthighres TGTHIGHRES]\n",
      "                             [--data_path DATA_PATH] [--save_path SAVE_PATH]\n",
      "                             [--pre_normalized {F,T,A}] [--demo]\n",
      "                             [--version VERSION] [--model_path MODEL_PATH]\n",
      "                             [--ckpt_name CKPT_NAME]\n",
      "ipykernel_launcher.py: error: unrecognized arguments: --f=/home/bench-user/.local/share/jupyter/runtime/kernel-v2-8115DIrFLrU3uxoL.json\n"
     ]
    },
    {
     "ename": "SystemExit",
     "evalue": "2",
     "output_type": "error",
     "traceback": [
      "An exception has occurred, use %tb to see the full traceback.\n",
      "\u001b[0;31mSystemExit\u001b[0m\u001b[0;31m:\u001b[0m 2\n"
     ]
    },
    {
     "name": "stderr",
     "output_type": "stream",
     "text": [
      "/home/bench-user/.apps/conda/envs/scFoundation/lib/python3.9/site-packages/IPython/core/interactiveshell.py:3558: UserWarning: To exit: use 'exit', 'quit', or Ctrl-D.\n",
      "  warn(\"To exit: use 'exit', 'quit', or Ctrl-D.\", stacklevel=1)\n"
     ]
    }
   ],
   "source": [
    "\n",
    "import scanpy as sc\n",
    "from get_embedding import main_gene_selection"
   ]
  },
  {
   "cell_type": "code",
   "execution_count": 2,
   "metadata": {},
   "outputs": [
    {
     "data": {
      "text/html": [
       "<div>\n",
       "<style scoped>\n",
       "    .dataframe tbody tr th:only-of-type {\n",
       "        vertical-align: middle;\n",
       "    }\n",
       "\n",
       "    .dataframe tbody tr th {\n",
       "        vertical-align: top;\n",
       "    }\n",
       "\n",
       "    .dataframe thead th {\n",
       "        text-align: right;\n",
       "    }\n",
       "</style>\n",
       "<table border=\"1\" class=\"dataframe\">\n",
       "  <thead>\n",
       "    <tr style=\"text-align: right;\">\n",
       "      <th></th>\n",
       "      <th>gene_name</th>\n",
       "      <th>highly_variable</th>\n",
       "      <th>highly_variable_rank</th>\n",
       "      <th>means</th>\n",
       "      <th>variances</th>\n",
       "      <th>variances_norm</th>\n",
       "    </tr>\n",
       "  </thead>\n",
       "  <tbody>\n",
       "    <tr>\n",
       "      <th>1</th>\n",
       "      <td>FAM87B</td>\n",
       "      <td>True</td>\n",
       "      <td>4106.0</td>\n",
       "      <td>0.000040</td>\n",
       "      <td>0.000040</td>\n",
       "      <td>1.000080</td>\n",
       "    </tr>\n",
       "    <tr>\n",
       "      <th>2</th>\n",
       "      <td>LINC00115</td>\n",
       "      <td>False</td>\n",
       "      <td>NaN</td>\n",
       "      <td>0.014841</td>\n",
       "      <td>0.015658</td>\n",
       "      <td>0.859693</td>\n",
       "    </tr>\n",
       "    <tr>\n",
       "      <th>3</th>\n",
       "      <td>FAM41C</td>\n",
       "      <td>False</td>\n",
       "      <td>NaN</td>\n",
       "      <td>0.000439</td>\n",
       "      <td>0.000439</td>\n",
       "      <td>0.929125</td>\n",
       "    </tr>\n",
       "    <tr>\n",
       "      <th>4</th>\n",
       "      <td>SAMD11</td>\n",
       "      <td>False</td>\n",
       "      <td>NaN</td>\n",
       "      <td>0.000239</td>\n",
       "      <td>0.000239</td>\n",
       "      <td>0.953518</td>\n",
       "    </tr>\n",
       "    <tr>\n",
       "      <th>5</th>\n",
       "      <td>NOC2L</td>\n",
       "      <td>True</td>\n",
       "      <td>2040.0</td>\n",
       "      <td>0.531038</td>\n",
       "      <td>1.174560</td>\n",
       "      <td>1.145456</td>\n",
       "    </tr>\n",
       "    <tr>\n",
       "      <th>...</th>\n",
       "      <td>...</td>\n",
       "      <td>...</td>\n",
       "      <td>...</td>\n",
       "      <td>...</td>\n",
       "      <td>...</td>\n",
       "      <td>...</td>\n",
       "    </tr>\n",
       "    <tr>\n",
       "      <th>15350</th>\n",
       "      <td>FAM224B</td>\n",
       "      <td>False</td>\n",
       "      <td>NaN</td>\n",
       "      <td>0.001715</td>\n",
       "      <td>0.001792</td>\n",
       "      <td>0.901687</td>\n",
       "    </tr>\n",
       "    <tr>\n",
       "      <th>15351</th>\n",
       "      <td>TTTY14</td>\n",
       "      <td>False</td>\n",
       "      <td>NaN</td>\n",
       "      <td>0.004548</td>\n",
       "      <td>0.005166</td>\n",
       "      <td>0.944615</td>\n",
       "    </tr>\n",
       "    <tr>\n",
       "      <th>15352</th>\n",
       "      <td>KDM5D</td>\n",
       "      <td>False</td>\n",
       "      <td>NaN</td>\n",
       "      <td>0.076358</td>\n",
       "      <td>0.090718</td>\n",
       "      <td>0.967450</td>\n",
       "    </tr>\n",
       "    <tr>\n",
       "      <th>15353</th>\n",
       "      <td>TTTY10</td>\n",
       "      <td>False</td>\n",
       "      <td>NaN</td>\n",
       "      <td>0.005944</td>\n",
       "      <td>0.006149</td>\n",
       "      <td>0.855248</td>\n",
       "    </tr>\n",
       "    <tr>\n",
       "      <th>15354</th>\n",
       "      <td>EIF1AY</td>\n",
       "      <td>True</td>\n",
       "      <td>740.0</td>\n",
       "      <td>0.778265</td>\n",
       "      <td>2.793601</td>\n",
       "      <td>1.531370</td>\n",
       "    </tr>\n",
       "  </tbody>\n",
       "</table>\n",
       "<p>15093 rows × 6 columns</p>\n",
       "</div>"
      ],
      "text/plain": [
       "       gene_name  highly_variable  highly_variable_rank     means  variances  \\\n",
       "1         FAM87B             True                4106.0  0.000040   0.000040   \n",
       "2      LINC00115            False                   NaN  0.014841   0.015658   \n",
       "3         FAM41C            False                   NaN  0.000439   0.000439   \n",
       "4         SAMD11            False                   NaN  0.000239   0.000239   \n",
       "5          NOC2L             True                2040.0  0.531038   1.174560   \n",
       "...          ...              ...                   ...       ...        ...   \n",
       "15350    FAM224B            False                   NaN  0.001715   0.001792   \n",
       "15351     TTTY14            False                   NaN  0.004548   0.005166   \n",
       "15352      KDM5D            False                   NaN  0.076358   0.090718   \n",
       "15353     TTTY10            False                   NaN  0.005944   0.006149   \n",
       "15354     EIF1AY             True                 740.0  0.778265   2.793601   \n",
       "\n",
       "       variances_norm  \n",
       "1            1.000080  \n",
       "2            0.859693  \n",
       "3            0.929125  \n",
       "4            0.953518  \n",
       "5            1.145456  \n",
       "...               ...  \n",
       "15350        0.901687  \n",
       "15351        0.944615  \n",
       "15352        0.967450  \n",
       "15353        0.855248  \n",
       "15354        1.531370  \n",
       "\n",
       "[15093 rows x 6 columns]"
      ]
     },
     "execution_count": 2,
     "metadata": {},
     "output_type": "execute_result"
    }
   ],
   "source": [
    "adata = sc.read_h5ad(\"/home/bench-user/Preprocessed_Data/clono_filtered_counts_adata.h5ad\")\n",
    "adata.var"
   ]
  },
  {
   "cell_type": "code",
   "execution_count": 4,
   "metadata": {},
   "outputs": [
    {
     "data": {
      "text/plain": [
       "<25066x15093 sparse matrix of type '<class 'numpy.float32'>'\n",
       "\twith 58912865 stored elements in Compressed Sparse Row format>"
      ]
     },
     "execution_count": 4,
     "metadata": {},
     "output_type": "execute_result"
    }
   ],
   "source": [
    "adata.X\n"
   ]
  },
  {
   "cell_type": "code",
   "execution_count": null,
   "metadata": {},
   "outputs": [],
   "source": []
  },
  {
   "cell_type": "code",
   "execution_count": 3,
   "metadata": {},
   "outputs": [],
   "source": [
    "gene_list = list(adata.var['gene_name'])"
   ]
  },
  {
   "cell_type": "code",
   "execution_count": null,
   "metadata": {},
   "outputs": [],
   "source": [
    "\n",
    "X_df, to_fill_columns, var = main_gene_selection(adata.X, gene_list)"
   ]
  }
 ],
 "metadata": {
  "kernelspec": {
   "display_name": "scFoundation",
   "language": "python",
   "name": "python3"
  },
  "language_info": {
   "codemirror_mode": {
    "name": "ipython",
    "version": 3
   },
   "file_extension": ".py",
   "mimetype": "text/x-python",
   "name": "python",
   "nbconvert_exporter": "python",
   "pygments_lexer": "ipython3",
   "version": "3.9.19"
  }
 },
 "nbformat": 4,
 "nbformat_minor": 2
}
